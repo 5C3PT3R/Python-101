{
 "cells": [
  {
   "cell_type": "code",
   "execution_count": 3,
   "id": "dcfece6a-7747-491a-839f-bd4913cf5aa7",
   "metadata": {},
   "outputs": [
    {
     "name": "stdout",
     "output_type": "stream",
     "text": [
      "Hello\n",
      "World\n",
      "Hello World\n"
     ]
    }
   ],
   "source": [
    "print(\"Hello\\nWorld\")\n",
    "print(\"Hello World\")\n",
    "#hello"
   ]
  },
  {
   "cell_type": "code",
   "execution_count": 13,
   "id": "6c77e586-4d8f-4aae-a079-422683b25a8f",
   "metadata": {},
   "outputs": [
    {
     "name": "stdout",
     "output_type": "stream",
     "text": [
      "2.0\n",
      "2\n",
      "12\n",
      "<class 'int'>\n",
      "<class 'float'>\n",
      "<class 'float'>\n",
      "<class 'int'>\n",
      "<class 'int'>\n",
      "<class 'str'>\n"
     ]
    }
   ],
   "source": [
    "x = 2 #this is a integer\n",
    "y = 2.3 #this is a float\n",
    "z = 12\n",
    "\n",
    "l = float(x) #converts integer to float\n",
    "m = int(y) #converts float to integer\n",
    "n = str(z) #converts str to int but cant be opposite\n",
    "\n",
    "print(l)\n",
    "print(m)\n",
    "print(n)\n",
    "\n",
    "print(type(x))\n",
    "print(type(l))\n",
    "print(type(y))\n",
    "print(type(m))\n",
    "print(type(z))\n",
    "print(type(n))"
   ]
  },
  {
   "cell_type": "code",
   "execution_count": 15,
   "id": "84227dc5-e6e4-473f-ac1c-7786011cc024",
   "metadata": {},
   "outputs": [
    {
     "name": "stdout",
     "output_type": "stream",
     "text": [
      "1\n",
      "0\n"
     ]
    }
   ],
   "source": [
    "x = True\n",
    "y = False\n",
    "\n",
    "#boolean when converted to int turns to 0 and 1\n",
    "l = int(x) \n",
    "m = int(y)\n",
    "\n",
    "print(l)\n",
    "print(m)"
   ]
  },
  {
   "cell_type": "code",
   "execution_count": 16,
   "id": "8f50ad61-0a91-4c37-b0dd-d02b2e7dff9a",
   "metadata": {},
   "outputs": [
    {
     "name": "stdout",
     "output_type": "stream",
     "text": [
      "True\n"
     ]
    }
   ],
   "source": [
    "x = bool(1)\n",
    "print(x)"
   ]
  },
  {
   "cell_type": "code",
   "execution_count": 32,
   "id": "9861d322-ee36-4c8a-8c0e-2af9efb47c81",
   "metadata": {},
   "outputs": [
    {
     "name": "stdout",
     "output_type": "stream",
     "text": [
      "e\n",
      "Hel\n",
      "o Worl\n",
      "HloWrd\n",
      "HloWr\n"
     ]
    }
   ],
   "source": [
    "x = \"Hello World\"\n",
    "\n",
    "print(x[1]) # prints at index 1\n",
    "print(x[0:3]) # prints all elements between the given index\n",
    "print(x[4:10])\n",
    "print(x[::2]) #stride fxn, selects every 2nd element on index\n",
    "print(x[0:10:2]) #slicing fxn, selects every second element till 10th index"
   ]
  },
  {
   "cell_type": "code",
   "execution_count": 37,
   "id": "54a9e31a-e1d6-4b1e-95f9-641e4c83833e",
   "metadata": {},
   "outputs": [
    {
     "name": "stdout",
     "output_type": "stream",
     "text": [
      "5\n",
      "Hello World\n",
      "HelloHelloHello\n"
     ]
    }
   ],
   "source": [
    "x = \"Hello\"\n",
    "y = \" World\"\n",
    "print(len(x)) #tells the length of string\n",
    "\n",
    "z = x + y #strings can be added together\n",
    "\n",
    "print(z)\n",
    "print(x*3) #prints the string defined times"
   ]
  },
  {
   "cell_type": "code",
   "execution_count": 38,
   "id": "89591b82-f166-405f-980a-bb1319ac7bc2",
   "metadata": {},
   "outputs": [
    {
     "name": "stdout",
     "output_type": "stream",
     "text": [
      "WELCOME TO PYTHON\n"
     ]
    }
   ],
   "source": [
    "A = \"Welcome to python\"\n",
    "B = A.upper()\n",
    "\n",
    "print(B)"
   ]
  },
  {
   "cell_type": "code",
   "execution_count": 40,
   "id": "1fff30a2-4a77-4e25-af15-fbeaf7a20ccf",
   "metadata": {},
   "outputs": [
    {
     "name": "stdout",
     "output_type": "stream",
     "text": [
      "Welcome to Python\n"
     ]
    }
   ],
   "source": [
    "A = \"Welcome to C\"\n",
    "B = A.replace('C','Python') #replaces the first mentioned letter to the new one\n",
    "print(B)"
   ]
  },
  {
   "cell_type": "code",
   "execution_count": 43,
   "id": "394ddde2-5641-4dcf-9255-ca730f353458",
   "metadata": {},
   "outputs": [
    {
     "name": "stdout",
     "output_type": "stream",
     "text": [
      "5\n"
     ]
    }
   ],
   "source": [
    "A = \"New World\"\n",
    "B = A.find('or') #tells the index of first letter mentioned\n",
    "\n",
    "print(B)"
   ]
  },
  {
   "cell_type": "code",
   "execution_count": null,
   "id": "e8bcfd17-1ac5-4a38-bd0c-5247b44732e1",
   "metadata": {},
   "outputs": [],
   "source": []
  }
 ],
 "metadata": {
  "kernelspec": {
   "display_name": "Python 3 (ipykernel)",
   "language": "python",
   "name": "python3"
  },
  "language_info": {
   "codemirror_mode": {
    "name": "ipython",
    "version": 3
   },
   "file_extension": ".py",
   "mimetype": "text/x-python",
   "name": "python",
   "nbconvert_exporter": "python",
   "pygments_lexer": "ipython3",
   "version": "3.12.4"
  }
 },
 "nbformat": 4,
 "nbformat_minor": 5
}
